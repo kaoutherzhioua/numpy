{
  "nbformat": 4,
  "nbformat_minor": 0,
  "metadata": {
    "colab": {
      "name": "Untitled5.ipynb",
      "provenance": []
    },
    "kernelspec": {
      "name": "python3",
      "display_name": "Python 3"
    },
    "language_info": {
      "name": "python"
    }
  },
  "cells": [
    {
      "cell_type": "code",
      "metadata": {
        "colab": {
          "base_uri": "https://localhost:8080/"
        },
        "id": "oHyC0ZPc753a",
        "outputId": "34973d78-c620-4d99-c476-9252cb5ed42d"
      },
      "source": [
        "from array import *\n",
        "def array_list(array_num):\n",
        "    num_list = array_num.tolist() \n",
        "    print(num_list)\n",
        "  \n",
        "\n",
        "array_num = array('i', [45,34,67]) \n",
        "array_list(array_num)"
      ],
      "execution_count": 1,
      "outputs": [
        {
          "output_type": "stream",
          "text": [
            "[45, 34, 67]\n"
          ],
          "name": "stdout"
        }
      ]
    },
    {
      "cell_type": "code",
      "metadata": {
        "colab": {
          "base_uri": "https://localhost:8080/"
        },
        "id": "rDkkphqY9yZI",
        "outputId": "f94620ab-bde0-491f-96d3-2f99d1f0208b"
      },
      "source": [
        "import numpy as np\n",
        "a=np.array([[1,2,3],[4,5,6],[7,8,9]])\n",
        "print(np.trace(a))"
      ],
      "execution_count": 2,
      "outputs": [
        {
          "output_type": "stream",
          "text": [
            "15\n"
          ],
          "name": "stdout"
        }
      ]
    },
    {
      "cell_type": "code",
      "metadata": {
        "colab": {
          "base_uri": "https://localhost:8080/"
        },
        "id": "hE9DDesIAYpV",
        "outputId": "08902643-0960-4b0e-e6cb-a1912709372f"
      },
      "source": [
        "import numpy as np\n",
        "new= np.array([[1, 2], [ 3,5]])\n",
        "x=int(input(\"entrez une valeur\"))\n",
        "print(\"Values bigger than x =\", new[new>x])\n"
      ],
      "execution_count": 10,
      "outputs": [
        {
          "output_type": "stream",
          "text": [
            "entrez une valeur3\n",
            "Values bigger than x = [5]\n"
          ],
          "name": "stdout"
        }
      ]
    },
    {
      "cell_type": "code",
      "metadata": {
        "colab": {
          "base_uri": "https://localhost:8080/"
        },
        "id": "Tz7iUfJ-Nagd",
        "outputId": "37a29c29-26f3-4435-d7da-1e79afb24f66"
      },
      "source": [
        "import numpy as np\n",
        "a=np.array([[1,2,3]])\n",
        "b=np.array([[4,5,6]])\n",
        "k=a+b \n",
        "print(k)"
      ],
      "execution_count": 11,
      "outputs": [
        {
          "output_type": "stream",
          "text": [
            "[[5 7 9]]\n"
          ],
          "name": "stdout"
        }
      ]
    },
    {
      "cell_type": "code",
      "metadata": {
        "colab": {
          "base_uri": "https://localhost:8080/"
        },
        "id": "KTUOBzabOkTZ",
        "outputId": "a1872dab-2fe6-4e86-85e3-2bb79a56b59d"
      },
      "source": [
        "import numpy as np\n",
        "print(\"Original matrix:\\n\")\n",
        "X = np.random.rand(5, 10)\n",
        "print(X)\n",
        "print(\"\\nSubtract the mean of each row of the said matrix:\\n\")\n",
        "Y = X - X.mean(axis=1, keepdims=True)\n",
        "print(Y)"
      ],
      "execution_count": 12,
      "outputs": [
        {
          "output_type": "stream",
          "text": [
            "Original matrix:\n",
            "\n",
            "[[0.30102697 0.05275771 0.97226672 0.04211601 0.52652851 0.49120265\n",
            "  0.94825304 0.28787962 0.91132315 0.46143251]\n",
            " [0.44802379 0.42831442 0.25755318 0.14974373 0.21867567 0.7715484\n",
            "  0.27956485 0.89176371 0.46775021 0.30615882]\n",
            " [0.395621   0.16804515 0.84178916 0.6978599  0.40821035 0.86463053\n",
            "  0.91160171 0.27571932 0.00901002 0.75326432]\n",
            " [0.67259136 0.79263595 0.60047174 0.68434917 0.38399868 0.4289187\n",
            "  0.68909007 0.24524536 0.70388297 0.57113108]\n",
            " [0.16674144 0.66065476 0.53788847 0.85950368 0.71012599 0.5697655\n",
            "  0.58498338 0.67984223 0.86614258 0.65406141]]\n",
            "\n",
            "Subtract the mean of each row of the said matrix:\n",
            "\n",
            "[[-0.19845172 -0.44672098  0.47278803 -0.45736268  0.02704982 -0.00827604\n",
            "   0.44877436 -0.21159907  0.41184446 -0.03804618]\n",
            " [ 0.02611412  0.00640474 -0.1643565  -0.27216595 -0.20323401  0.34963873\n",
            "  -0.14234483  0.46985403  0.04584053 -0.11575086]\n",
            " [-0.13695415 -0.36452999  0.30921402  0.16528475 -0.12436479  0.33205538\n",
            "   0.37902656 -0.25685582 -0.52356513  0.22068918]\n",
            " [ 0.09535986  0.21540444  0.02324023  0.10711766 -0.19323282 -0.14831281\n",
            "   0.11185856 -0.33198615  0.12665146 -0.00610043]\n",
            " [-0.46222951  0.03168382 -0.09108247  0.23053274  0.08115505 -0.05920545\n",
            "  -0.04398757  0.05087129  0.23717164  0.02509047]]\n"
          ],
          "name": "stdout"
        }
      ]
    }
  ]
}